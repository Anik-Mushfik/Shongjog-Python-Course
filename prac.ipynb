{
 "cells": [
  {
   "cell_type": "markdown",
   "metadata": {},
   "source": [
    "# Sajid Class"
   ]
  },
  {
   "cell_type": "code",
   "execution_count": 9,
   "metadata": {},
   "outputs": [
    {
     "name": "stdout",
     "output_type": "stream",
     "text": [
      "Saturday\n",
      "Sunday\n",
      "Monday\n"
     ]
    }
   ],
   "source": [
    "days = [\"Saturday\", \"Sunday\", \"Monday\"]\n",
    "for x in days:\n",
    "  if(x==\"Friday\"):\n",
    "    break\n",
    "  print(x)\n"
   ]
  },
  {
   "cell_type": "code",
   "execution_count": 10,
   "metadata": {},
   "outputs": [
    {
     "name": "stdout",
     "output_type": "stream",
     "text": [
      "Saturday\n",
      "Sunday\n",
      "Monday\n"
     ]
    }
   ],
   "source": [
    "days = [\"Saturday\", \"Sunday\", \"Monday\"]\n",
    "for x in days:\n",
    "  if(x==\"Friday\"):\n",
    "    continue\n",
    "  print(x)\n"
   ]
  },
  {
   "cell_type": "code",
   "execution_count": 13,
   "metadata": {},
   "outputs": [
    {
     "name": "stdout",
     "output_type": "stream",
     "text": [
      "1\n",
      "Sunday\n",
      "2\n",
      "Monday\n",
      "3\n",
      "Friday\n"
     ]
    }
   ],
   "source": [
    "days = [\"Saturday\", \"Sunday\", \"Monday\", \"Friday\"]\n",
    "for x in range(1,len(days)):\n",
    "  print(x)\n",
    "  print(days[x])\n"
   ]
  },
  {
   "cell_type": "code",
   "execution_count": 14,
   "metadata": {},
   "outputs": [
    {
     "name": "stdout",
     "output_type": "stream",
     "text": [
      "You entered: h\n"
     ]
    }
   ],
   "source": [
    "while True:\n",
    "    response = input(\"Enter 'quit' to exit: \")\n",
    "    if response.lower() == 'quit':\n",
    "        break\n",
    "    print(\"You entered:\", response)"
   ]
  },
  {
   "cell_type": "code",
   "execution_count": null,
   "metadata": {},
   "outputs": [],
   "source": [
    "while True:\n",
    "    response = input(\"Enter 'quit' to exit: \")\n",
    "    if response.lower() == 'quit':\n",
    "        # break\n",
    "        continue\n",
    "    print(\"You entered:\", response)\n",
    "    print(\"Anik\")"
   ]
  },
  {
   "cell_type": "code",
   "execution_count": 16,
   "metadata": {},
   "outputs": [
    {
     "name": "stdout",
     "output_type": "stream",
     "text": [
      "0\n",
      "1\n",
      "2\n",
      "3\n",
      "4\n",
      "5\n",
      "6\n",
      "7\n",
      "8\n",
      "9\n",
      "10\n",
      "11\n",
      "12\n",
      "13\n",
      "14\n",
      "15\n",
      "16\n",
      "17\n",
      "18\n",
      "19\n",
      "20\n",
      "21\n",
      "22\n",
      "23\n",
      "24\n",
      "25\n",
      "26\n",
      "27\n",
      "28\n",
      "29\n",
      "30\n",
      "31\n",
      "32\n",
      "33\n",
      "34\n",
      "35\n",
      "36\n",
      "37\n",
      "38\n",
      "39\n",
      "40\n",
      "41\n",
      "42\n",
      "43\n",
      "44\n",
      "45\n",
      "46\n",
      "47\n",
      "48\n",
      "49\n",
      "50\n",
      "51\n",
      "52\n",
      "53\n",
      "54\n",
      "55\n",
      "56\n",
      "57\n",
      "58\n",
      "59\n",
      "60\n",
      "61\n",
      "62\n",
      "63\n",
      "64\n",
      "65\n",
      "66\n",
      "67\n",
      "68\n",
      "69\n",
      "70\n",
      "71\n",
      "72\n",
      "73\n",
      "74\n",
      "75\n",
      "76\n",
      "77\n",
      "78\n",
      "79\n",
      "80\n",
      "81\n",
      "82\n",
      "83\n",
      "84\n",
      "85\n",
      "86\n",
      "87\n",
      "88\n",
      "89\n",
      "90\n",
      "91\n",
      "92\n",
      "93\n",
      "94\n",
      "95\n",
      "96\n",
      "97\n",
      "98\n",
      "99\n"
     ]
    }
   ],
   "source": [
    "count = 0\n",
    "\n",
    "while True:\n",
    "    print(count)\n",
    "    count += 1\n",
    "    if (count == 100):\n",
    "        break"
   ]
  },
  {
   "cell_type": "code",
   "execution_count": 17,
   "metadata": {},
   "outputs": [
    {
     "name": "stdout",
     "output_type": "stream",
     "text": [
      "True\n",
      "False\n"
     ]
    }
   ],
   "source": [
    "i_am__good = True\n",
    "\n",
    "he_is_goo = False\n",
    "\n",
    "print(i_am__good)\n",
    "print(he_is_goo)"
   ]
  },
  {
   "cell_type": "code",
   "execution_count": 19,
   "metadata": {},
   "outputs": [],
   "source": [
    "valid_input = False\n",
    "# while not valid_input: \n",
    "while (valid_input == False):\n",
    "    user_input = input(\"Enter a number between 1 and 10: \")\n",
    "    if user_input.isdigit() and 1 <= int(user_input) <= 10:\n",
    "        valid_input = True\n",
    "\n",
    "# not flag: flag == False:\n",
    "\n",
    "# .isdigit() => True or False\n"
   ]
  },
  {
   "cell_type": "code",
   "execution_count": 18,
   "metadata": {},
   "outputs": [
    {
     "name": "stdout",
     "output_type": "stream",
     "text": [
      "True\n",
      "False\n"
     ]
    }
   ],
   "source": [
    "hi = \"90\"\n",
    "bye = \"Anik\"\n",
    "\n",
    "print(hi.isdigit())\n",
    "print(bye.isdigit())"
   ]
  },
  {
   "cell_type": "code",
   "execution_count": 22,
   "metadata": {},
   "outputs": [
    {
     "name": "stdout",
     "output_type": "stream",
     "text": [
      "[3, 4, 5]\n",
      "[1, 3, 5, 7]\n",
      "[6, 7, 8, 9, 10]\n",
      "[1, 2, 3, 4, 5, 6, 7, 8, 9]\n",
      "[10, 9, 8, 7]\n"
     ]
    }
   ],
   "source": [
    "my_list = [1, 2, 3, 4, 5, 6, 7, 8, 9, 10]\n",
    "\n",
    "# Sublist from index 2 to 5 (exclusive)\n",
    "sublist1 = my_list[2:5]\n",
    "print(sublist1)  # Output: [3, 4, 5]\n",
    "\n",
    "# Sublist from index 0 to 7 (exclusive), with a step of 2\n",
    "sublist2 = my_list[0:7:2]\n",
    "print(sublist2)  # Output: [1, 3, 5, 7]\n",
    "\n",
    "# Sublist from index 5 to the end of the list\n",
    "sublist3 = my_list[5:]\n",
    "print(sublist3)  # Output: [6, 7, 8, 9, 10]\n",
    "\n",
    "sublist4 = my_list[:-1]\n",
    "print(sublist4) \n",
    "\n",
    "sublist5 = my_list[:-5:-1]\n",
    "print(sublist5) \n"
   ]
  },
  {
   "cell_type": "code",
   "execution_count": 26,
   "metadata": {},
   "outputs": [
    {
     "name": "stdout",
     "output_type": "stream",
     "text": [
      "* \n",
      "* * \n",
      "* * * \n",
      "* * * * \n",
      "* * * * * \n"
     ]
    }
   ],
   "source": [
    "height = 5\n",
    "for i in range(height):\n",
    "    for j in range(i+1):\n",
    "        print(\"*\", end=\" \")\n",
    "    print()"
   ]
  },
  {
   "cell_type": "code",
   "execution_count": 28,
   "metadata": {},
   "outputs": [
    {
     "name": "stdout",
     "output_type": "stream",
     "text": [
      "h\n",
      "e\n",
      "l\n",
      "l\n",
      "o\n",
      "w\n",
      "o\n",
      "r\n",
      "l\n",
      "d\n",
      "p\n",
      "y\n",
      "t\n",
      "h\n",
      "o\n",
      "n\n"
     ]
    }
   ],
   "source": [
    "my_strings = [\"hello\", \"world\", \"python\"]\n",
    "\n",
    "for string in my_strings:\n",
    "    for x in string:\n",
    "        print(x)"
   ]
  },
  {
   "cell_type": "markdown",
   "metadata": {},
   "source": [
    "### **Built-in Functions in Python**  \n",
    "Built-in functions are functions that are readily available in Python without needing to import any external libraries. These functions are part of the core Python language and provide essential functionality for various operations such as data manipulation, input/output, and mathematical calculations.  \n",
    "\n",
    "---\n",
    "\n",
    "### **Categories of Built-in Functions**\n",
    "Python's built-in functions can be categorized as follows:\n",
    "\n",
    "1. **Mathematical Functions**\n",
    "2. **Type Conversion Functions**\n",
    "3. **Input/Output Functions**\n",
    "4. **String and Iterable Handling**\n",
    "5. **Object-Oriented Functions**\n",
    "6. **Utilities for Iteration and Filtering**\n",
    "\n",
    "---\n",
    "\n",
    "### **Some Common Python Built-in Functions**\n",
    "\n",
    "| **Function**     | **Description**                                             | **Example**                    |\n",
    "|-------------------|-------------------------------------------------------------|--------------------------------|\n",
    "| `print()`        | Displays output to the console.                             | `print(\"Hello World\")`         |\n",
    "| `input()`        | Reads input from the user.                                   | `name = input(\"Enter name: \")` |\n",
    "| `len()`          | Returns the length of a string, list, or other iterable.     | `len([1, 2, 3]) → 3`           |\n",
    "| `type()`         | Returns the type of an object.                               | `type(10) → <class 'int'>`     |\n",
    "| `int()`, `str()` | Converts data types to `int`, `str`, etc.                    | `int(\"5\") → 5`                 |\n",
    "| `range()`        | Generates a range of numbers.                                | `range(1, 5) → 1,2,3,4`        |\n",
    "| `sum()`          | Returns the sum of a list or iterable.                       | `sum([1, 2, 3]) → 6`           |\n",
    "| `max()`          | Returns the maximum value from an iterable.                  | `max([1, 5, 3]) → 5`           |\n",
    "| `min()`          | Returns the minimum value from an iterable.                  | `min([1, 5, 3]) → 1`           |\n",
    "| `sorted()`       | Sorts an iterable in ascending or descending order.          | `sorted([3, 1, 2]) → [1, 2, 3]`|\n",
    "| `abs()`          | Returns the absolute value of a number.                      | `abs(-5) → 5`                  |\n",
    "| `round()`        | Rounds a floating-point number to the nearest integer.       | `round(5.6) → 6`               |\n",
    "| `zip()`          | Combines two or more iterables element-wise.                 | `zip([1,2], [3,4]) → (1,3)`    |\n",
    "| `enumerate()`    | Adds an index to an iterable for iteration.                  | `enumerate(['a','b'])`         |\n",
    "| `any()`          | Returns `True` if any element of an iterable is true.        | `any([False, True]) → True`    |\n",
    "| `all()`          | Returns `True` if all elements of an iterable are true.      | `all([True, True]) → True`     |\n",
    "| `map()`          | Applies a function to all items in an iterable.              | `map(str, [1,2,3]) → ['1','2']`|\n",
    "| `filter()`       | Filters items of an iterable based on a condition.           | `filter(lambda x: x>2, [1,2,3])`|\n",
    "| `id()`           | Returns the memory address of an object.                     | `id(10)`                      |\n",
    "| `help()`         | Provides documentation for an object or function.            | `help(print)`                  |\n",
    "\n",
    "---\n",
    "\n",
    "### **Examples of Built-in Functions**\n",
    "\n",
    "1. **`print()` and `input()`**  \n",
    "   ```python\n",
    "   name = input(\"Enter your name: \")\n",
    "   print(\"Hello, \", name)\n",
    "   ```\n",
    "\n",
    "2. **`len()` and `type()`**  \n",
    "   ```python\n",
    "   my_list = [1, 2, 3, 4]\n",
    "   print(\"Length:\", len(my_list))  # Output: 4\n",
    "   print(\"Type:\", type(my_list))   # Output: <class 'list'>\n",
    "   ```\n",
    "\n",
    "3. **`sum()`, `max()`, and `min()`**  \n",
    "   ```python\n",
    "   numbers = [10, 20, 30]\n",
    "   print(\"Sum:\", sum(numbers))     # Output: 60\n",
    "   print(\"Max:\", max(numbers))     # Output: 30\n",
    "   print(\"Min:\", min(numbers))     # Output: 10\n",
    "   ```\n",
    "\n",
    "4. **`zip()` and `enumerate()`**  \n",
    "   ```python\n",
    "   names = ['Alice', 'Bob']\n",
    "   scores = [85, 90]\n",
    "\n",
    "   for name, score in zip(names, scores):\n",
    "       print(name, score)\n",
    "\n",
    "   for index, name in enumerate(names):\n",
    "       print(index, name)\n",
    "   ```\n",
    "\n",
    "5. **`map()` and `filter()`**  \n",
    "   ```python\n",
    "   numbers = [1, 2, 3, 4]\n",
    "   squared = list(map(lambda x: x**2, numbers))\n",
    "   print(squared)  # Output: [1, 4, 9, 16]\n",
    "\n",
    "   filtered = list(filter(lambda x: x > 2, numbers))\n",
    "   print(filtered)  # Output: [3, 4]\n",
    "   ```\n",
    "\n",
    "---\n",
    "\n",
    "### **Conclusion**\n",
    "Built-in functions are a powerful feature of Python that allow programmers to perform common operations efficiently and concisely. They eliminate the need for writing complex code for basic tasks, saving time and effort. For a complete list of built-in functions, you can refer to Python's official documentation or use the `dir(__builtins__)` command."
   ]
  }
 ],
 "metadata": {
  "kernelspec": {
   "display_name": "Python 3",
   "language": "python",
   "name": "python3"
  },
  "language_info": {
   "codemirror_mode": {
    "name": "ipython",
    "version": 3
   },
   "file_extension": ".py",
   "mimetype": "text/x-python",
   "name": "python",
   "nbconvert_exporter": "python",
   "pygments_lexer": "ipython3",
   "version": "3.12.8"
  }
 },
 "nbformat": 4,
 "nbformat_minor": 2
}
