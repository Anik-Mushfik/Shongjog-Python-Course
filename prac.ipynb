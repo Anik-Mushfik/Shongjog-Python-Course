{
 "cells": [
  {
   "cell_type": "markdown",
   "metadata": {},
   "source": [
    "check whether a string matches this pattern, returning either True or False."
   ]
  },
  {
   "cell_type": "code",
   "execution_count": null,
   "metadata": {},
   "outputs": [
    {
     "name": "stdout",
     "output_type": "stream",
     "text": [
      "Moshi moshi is a not phone number.\n"
     ]
    }
   ],
   "source": [
    "def isPhoneNumber(text):\n",
    "    if len(text) != 12:\n",
    "        return False\n",
    "    for i in range(0,3): #range(3):\n",
    "        #The isdecimal() method in Python checks whether all characters in a string are decimal characters. \n",
    "        # If the string contains only decimal characters (0-9), it returns True, otherwise, it returns False1.\n",
    "        if not text[i].isdecimal():\n",
    "            return False\n",
    "    \n",
    "    if text[3] != \"-\":\n",
    "        return False\n",
    "    for i in range(4,7):\n",
    "        if not text[i].isdecimal():\n",
    "            return False\n",
    "    \n",
    "    if text[7] != \"-\":\n",
    "        return False\n",
    "    for i in range(8,10):\n",
    "        if not text[i].isdecimal():\n",
    "            return False\n",
    "    \n",
    "    return True\n",
    "\n",
    "user_input = input(\"Enter your phone number: \")\n",
    "if isPhoneNumber(user_input):\n",
    "    print(f\"{user_input} is a phone number.\")\n",
    "else:\n",
    "    print(f\"{user_input} is a not phone number.\")\n",
    "\n",
    "# Moshi moshi\n",
    "# 415-555-4242"
   ]
  },
  {
   "cell_type": "code",
   "execution_count": 9,
   "metadata": {},
   "outputs": [
    {
     "name": "stdout",
     "output_type": "stream",
     "text": [
      "Saturday\n",
      "Sunday\n",
      "Monday\n"
     ]
    }
   ],
   "source": [
    "days = [\"Saturday\", \"Sunday\", \"Monday\"]\n",
    "for x in days:\n",
    "  if(x==\"Friday\"):\n",
    "    break\n",
    "  print(x)\n"
   ]
  },
  {
   "cell_type": "code",
   "execution_count": 8,
   "metadata": {},
   "outputs": [
    {
     "name": "stdout",
     "output_type": "stream",
     "text": [
      "Saturday\n",
      "Sunday\n",
      "Monday\n"
     ]
    }
   ],
   "source": [
    "days = [\"Saturday\", \"Sunday\", \"Monday\"]\n",
    "for x in days:\n",
    "  if(x==\"Friday\"):\n",
    "    continue\n",
    "  print(x)\n"
   ]
  }
 ],
 "metadata": {
  "kernelspec": {
   "display_name": "Python 3",
   "language": "python",
   "name": "python3"
  },
  "language_info": {
   "codemirror_mode": {
    "name": "ipython",
    "version": 3
   },
   "file_extension": ".py",
   "mimetype": "text/x-python",
   "name": "python",
   "nbconvert_exporter": "python",
   "pygments_lexer": "ipython3",
   "version": "3.12.8"
  }
 },
 "nbformat": 4,
 "nbformat_minor": 2
}
